{
 "cells": [
  {
   "cell_type": "markdown",
   "id": "3a18da9b",
   "metadata": {},
   "source": [
    "# Realatório de análise\n",
    "## Análise de básica em relação a diferença percentual do salário mínimo segundo informações retirados do site do IBGE"
   ]
  },
  {
   "cell_type": "code",
   "execution_count": 2,
   "id": "d306aeca",
   "metadata": {},
   "outputs": [
    {
     "data": {
      "text/html": [
       "<div>\n",
       "<style scoped>\n",
       "    .dataframe tbody tr th:only-of-type {\n",
       "        vertical-align: middle;\n",
       "    }\n",
       "\n",
       "    .dataframe tbody tr th {\n",
       "        vertical-align: top;\n",
       "    }\n",
       "\n",
       "    .dataframe thead th {\n",
       "        text-align: right;\n",
       "    }\n",
       "</style>\n",
       "<table border=\"1\" class=\"dataframe\">\n",
       "  <thead>\n",
       "    <tr style=\"text-align: right;\">\n",
       "      <th></th>\n",
       "      <th>periodo</th>\n",
       "      <th>valor</th>\n",
       "    </tr>\n",
       "  </thead>\n",
       "  <tbody>\n",
       "    <tr>\n",
       "      <th>0</th>\n",
       "      <td>2º tri 2017</td>\n",
       "      <td>2084</td>\n",
       "    </tr>\n",
       "    <tr>\n",
       "      <th>1</th>\n",
       "      <td>3º tri 2017</td>\n",
       "      <td>2100</td>\n",
       "    </tr>\n",
       "    <tr>\n",
       "      <th>2</th>\n",
       "      <td>4º tri 2017</td>\n",
       "      <td>2134</td>\n",
       "    </tr>\n",
       "    <tr>\n",
       "      <th>3</th>\n",
       "      <td>1º tri 2018</td>\n",
       "      <td>2171</td>\n",
       "    </tr>\n",
       "    <tr>\n",
       "      <th>4</th>\n",
       "      <td>2º tri 2018</td>\n",
       "      <td>2200</td>\n",
       "    </tr>\n",
       "    <tr>\n",
       "      <th>5</th>\n",
       "      <td>3º tri 2018</td>\n",
       "      <td>2224</td>\n",
       "    </tr>\n",
       "    <tr>\n",
       "      <th>6</th>\n",
       "      <td>4º tri 2018</td>\n",
       "      <td>2256</td>\n",
       "    </tr>\n",
       "    <tr>\n",
       "      <th>7</th>\n",
       "      <td>1º tri 2019</td>\n",
       "      <td>2289</td>\n",
       "    </tr>\n",
       "    <tr>\n",
       "      <th>8</th>\n",
       "      <td>2º tri 2019</td>\n",
       "      <td>2290</td>\n",
       "    </tr>\n",
       "    <tr>\n",
       "      <th>9</th>\n",
       "      <td>3º tri 2019</td>\n",
       "      <td>2298</td>\n",
       "    </tr>\n",
       "    <tr>\n",
       "      <th>10</th>\n",
       "      <td>4º tri 2019</td>\n",
       "      <td>2340</td>\n",
       "    </tr>\n",
       "    <tr>\n",
       "      <th>11</th>\n",
       "      <td>1º tri 2020</td>\n",
       "      <td>2398</td>\n",
       "    </tr>\n",
       "  </tbody>\n",
       "</table>\n",
       "</div>"
      ],
      "text/plain": [
       "        periodo  valor\n",
       "0   2º tri 2017   2084\n",
       "1   3º tri 2017   2100\n",
       "2   4º tri 2017   2134\n",
       "3   1º tri 2018   2171\n",
       "4   2º tri 2018   2200\n",
       "5   3º tri 2018   2224\n",
       "6   4º tri 2018   2256\n",
       "7   1º tri 2019   2289\n",
       "8   2º tri 2019   2290\n",
       "9   3º tri 2019   2298\n",
       "10  4º tri 2019   2340\n",
       "11  1º tri 2020   2398"
      ]
     },
     "execution_count": 2,
     "metadata": {},
     "output_type": "execute_result"
    }
   ],
   "source": [
    "%matplotlib inline\n",
    "import pandas as pd\n",
    "import matplotlib.pyplot as plt\n",
    "import numpy as np\n",
    "df = pd.read_csv('dataset/renda-média-mensal-r.csv')\n",
    "df"
   ]
  },
  {
   "cell_type": "code",
   "execution_count": 3,
   "id": "6c8dce52",
   "metadata": {},
   "outputs": [
    {
     "data": {
      "text/plain": [
       "Text(0.5, 1.0, 'Comparativo do valor do salário minimo desde 2017')"
      ]
     },
     "execution_count": 3,
     "metadata": {},
     "output_type": "execute_result"
    },
    {
     "data": {
      "image/png": "[encoded data removed]",
      "text/plain": [
       "<Figure size 1080x360 with 1 Axes>"
      ]
     },
     "metadata": {
      "needs_background": "light"
     },
     "output_type": "display_data"
    }
   ],
   "source": [
    "# Criado um crafico simples que representasse de forma gráfica a diferença salarial\n",
    "\n",
    "area = plt.figure(figsize=(15,5))\n",
    "g1 = area.add_subplot(1, 1, 1)\n",
    "g1.bar(df['periodo'], df['valor'], color='orange')\n",
    "g1.set_title('Comparativo do valor do salário minimo desde 2017')"
   ]
  },
  {
   "cell_type": "code",
   "execution_count": 11,
   "id": "d40d7063",
   "metadata": {},
   "outputs": [],
   "source": [
    "media = df['valor'].mean() "
   ]
  },
  {
   "cell_type": "code",
   "execution_count": 13,
   "id": "924fac4a",
   "metadata": {},
   "outputs": [],
   "source": [
    "menor = df['valor'].min()"
   ]
  },
  {
   "cell_type": "code",
   "execution_count": 15,
   "id": "8d29b766",
   "metadata": {},
   "outputs": [],
   "source": [
    "maior = df['valor'].max()"
   ]
  },
  {
   "cell_type": "code",
   "execution_count": 21,
   "id": "4408c5a8",
   "metadata": {},
   "outputs": [],
   "source": [
    "diferenca_Percentual = (((maior - menor) / menor)*100).round(2)"
   ]
  },
  {
   "cell_type": "code",
   "execution_count": 38,
   "id": "30ed3e86",
   "metadata": {},
   "outputs": [],
   "source": [
    "dicionario  = {'Salario em media desde 2º tri de 2017 a 1º tri de 2020: ':media,\n",
    "             'O menor salario mínimo desde 2017: ':menor,\n",
    "             'O maior salário mínio desde 2017: ': maior,\n",
    "             'Porcentagem de aumento de 2017 a 1ºTri de 2020: ':diferenca_Percentual}"
   ]
  },
  {
   "cell_type": "code",
   "execution_count": 39,
   "id": "720bc47b",
   "metadata": {},
   "outputs": [
    {
     "data": {
      "text/plain": [
       "Salario em media desde 2º tri de 2017 a 1º tri de 2020:     2232.00\n",
       "O menor salario mínimo desde 2017:                          2084.00\n",
       "O maior salário mínio desde 2017:                           2398.00\n",
       "Porcentagem de aumento de 2017 a 1ºTri de 2020:               15.07\n",
       "dtype: float64"
      ]
     },
     "execution_count": 39,
     "metadata": {},
     "output_type": "execute_result"
    }
   ],
   "source": [
    "#Aqui foi criado uma series com algumas informações estatisticas\n",
    "pd.Series(dicionario)"
   ]
  }
 ],
 "metadata": {
  "kernelspec": {
   "display_name": "Python 3 (ipykernel)",
   "language": "python",
   "name": "python3"
  },
  "language_info": {
   "codemirror_mode": {
    "name": "ipython",
    "version": 3
   },
   "file_extension": ".py",
   "mimetype": "text/x-python",
   "name": "python",
   "nbconvert_exporter": "python",
   "pygments_lexer": "ipython3",
   "version": "3.8.10"
  }
 },
 "nbformat": 4,
 "nbformat_minor": 5
}
